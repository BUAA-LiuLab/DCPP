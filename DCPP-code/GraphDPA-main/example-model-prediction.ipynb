{
 "cells": [
  {
   "cell_type": "code",
   "execution_count": 1,
   "metadata": {},
   "outputs": [],
   "source": [
    "import pickle\n",
    "import pandas as pd\n",
    "import numpy as np\n",
    "import os\n",
    "import sys\n",
    "import time\n",
    "from sklearn.model_selection import train_test_split\n",
    "from codes.GraphDPA import GCN_Model\n",
    "from codes.utils import *\n",
    "from prefetch_generator import BackgroundGenerator \n",
    "import torch.nn.functional as F"
   ]
  },
  {
   "cell_type": "code",
   "execution_count": 2,
   "metadata": {},
   "outputs": [
    {
     "name": "stdout",
     "output_type": "stream",
     "text": [
      "Start Time: 2021-10-18 01:09:47\n"
     ]
    }
   ],
   "source": [
    "print('Start Time: {}'.format(time.strftime('%Y-%m-%d %H:%M:%S',time.localtime(time.time()))))\n",
    "\n",
    "embed_dim = 11\n",
    "num = 15\n",
    "conv_type = 'GCNConv'\n",
    "substructure_type = 'molecular graph'\n",
    "\n",
    "if not os.path.exists('example_saved_data/model_tmp'):\n",
    "    os.mkdir('example_saved_data/model_tmp')\n",
    "if not os.path.exists('example_saved_data/results'):\n",
    "    os.mkdir('example_saved_data/results')\n",
    "\n",
    "with open('example_saved_data/entities2id.pkl'.format(substructure_type), 'rb') as file:\n",
    "    entities2id = pickle.load(file) \n",
    "\n",
    "with open('example_saved_data/graphs/graph_map.pkl', 'rb') as file:\n",
    "    graph_map = pickle.load(file)\n",
    "    \n",
    "res = {}\n",
    "for i in range(num):\n",
    "    device = torch.device('cuda:1' if torch.cuda.is_available() else 'cpu')\n",
    "    best_model_file = 'saved_models/{}+{}+{}+{}.pt'.format(substructure_type, embed_dim, i, conv_type)\n",
    "    val_dataset = MyOwnDataset('example_saved_data', list(range(len(graph_map))), graph_map)\n",
    "    val_loader = BackgroundGenerator(DataLoader(val_dataset, batch_size=1000))\n",
    "\n",
    "    if not os.path.exists(best_model_file):\n",
    "        print('ERROR-----The saved model file does not exist！！！！')\n",
    "\n",
    "    model = torch.load(best_model_file, map_location=device)\n",
    "    labels = []\n",
    "    predicts = []\n",
    "\n",
    "    for data in val_loader:\n",
    "        data = data.to(device)\n",
    "        logits = model(data)\n",
    "        labels.extend(data.y.cpu().tolist())\n",
    "        predicts.extend(F.softmax(logits, dim=1).cpu()[:,1].tolist())\n",
    "    res['label'] = labels\n",
    "    res[str(i)] = predicts\n",
    "res = pd.DataFrame(res)\n",
    "res['mean'] = res.iloc[:,1:].mean(axis=1)\n",
    "res.to_csv('example_saved_data/results/{}_res.csv'.format(conv_type), index=False)"
   ]
  },
  {
   "cell_type": "code",
   "execution_count": 3,
   "metadata": {},
   "outputs": [
    {
     "name": "stdout",
     "output_type": "stream",
     "text": [
      "{'Fold': 'None', 'ROC AUC': 0.7638842334593183, 'PR AUC': 0.7160436818743898}\n"
     ]
    }
   ],
   "source": [
    "res = pd.DataFrame(res)\n",
    "res['mean'] = res.iloc[:,1:].mean(axis=1)\n",
    "res.to_csv('example_saved_data/results/{}_res.csv'.format(conv_type), index=False)\n",
    "print(evaluate(res['label'], res['mean'], 'None'))"
   ]
  },
  {
   "cell_type": "code",
   "execution_count": null,
   "metadata": {},
   "outputs": [],
   "source": []
  }
 ],
 "metadata": {
  "kernelspec": {
   "display_name": "base",
   "language": "python",
   "name": "base"
  },
  "language_info": {
   "codemirror_mode": {
    "name": "ipython",
    "version": 3
   },
   "file_extension": ".py",
   "mimetype": "text/x-python",
   "name": "python",
   "nbconvert_exporter": "python",
   "pygments_lexer": "ipython3",
   "version": "3.9.5"
  }
 },
 "nbformat": 4,
 "nbformat_minor": 2
}
